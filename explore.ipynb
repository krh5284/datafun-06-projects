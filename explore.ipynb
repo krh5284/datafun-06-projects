{
 "cells": [
  {
   "attachments": {},
   "cell_type": "markdown",
   "metadata": {},
   "source": [
    "Exploratory Data Project\n",
    "Analyzing a dataset from the interent using as many Python skills as possbile"
   ]
  },
  {
   "attachments": {},
   "cell_type": "markdown",
   "metadata": {},
   "source": [
    "Importing the neccessary libraries and csv dataset as well as calling for the first 5 rows to make sure everything has worked"
   ]
  },
  {
   "cell_type": "code",
   "execution_count": 18,
   "metadata": {},
   "outputs": [
    {
     "data": {
      "text/html": [
       "<div>\n",
       "<style scoped>\n",
       "    .dataframe tbody tr th:only-of-type {\n",
       "        vertical-align: middle;\n",
       "    }\n",
       "\n",
       "    .dataframe tbody tr th {\n",
       "        vertical-align: top;\n",
       "    }\n",
       "\n",
       "    .dataframe thead th {\n",
       "        text-align: right;\n",
       "    }\n",
       "</style>\n",
       "<table border=\"1\" class=\"dataframe\">\n",
       "  <thead>\n",
       "    <tr style=\"text-align: right;\">\n",
       "      <th></th>\n",
       "      <th>table_num</th>\n",
       "      <th>TABLE_NAME</th>\n",
       "      <th>category_num</th>\n",
       "      <th>CATEGORY_DESC</th>\n",
       "      <th>year</th>\n",
       "      <th>Units</th>\n",
       "      <th>salary_and_benefits</th>\n",
       "      <th>output_taxes</th>\n",
       "      <th>property_income</th>\n",
       "      <th>imports</th>\n",
       "      <th>total</th>\n",
       "    </tr>\n",
       "  </thead>\n",
       "  <tbody>\n",
       "    <tr>\n",
       "      <th>0</th>\n",
       "      <td>1</td>\n",
       "      <td>Food dollar</td>\n",
       "      <td>1</td>\n",
       "      <td>Total</td>\n",
       "      <td>1993</td>\n",
       "      <td>Cents per Domestic Food Dollar</td>\n",
       "      <td>0.0</td>\n",
       "      <td>0.0</td>\n",
       "      <td>0.0</td>\n",
       "      <td>3.9</td>\n",
       "      <td>100.0</td>\n",
       "    </tr>\n",
       "    <tr>\n",
       "      <th>1</th>\n",
       "      <td>1</td>\n",
       "      <td>Food dollar</td>\n",
       "      <td>1</td>\n",
       "      <td>Total</td>\n",
       "      <td>1994</td>\n",
       "      <td>Cents per Domestic Food Dollar</td>\n",
       "      <td>0.0</td>\n",
       "      <td>0.0</td>\n",
       "      <td>0.0</td>\n",
       "      <td>3.9</td>\n",
       "      <td>100.0</td>\n",
       "    </tr>\n",
       "    <tr>\n",
       "      <th>2</th>\n",
       "      <td>1</td>\n",
       "      <td>Food dollar</td>\n",
       "      <td>1</td>\n",
       "      <td>Total</td>\n",
       "      <td>1995</td>\n",
       "      <td>Cents per Domestic Food Dollar</td>\n",
       "      <td>0.0</td>\n",
       "      <td>0.0</td>\n",
       "      <td>0.0</td>\n",
       "      <td>4.2</td>\n",
       "      <td>100.0</td>\n",
       "    </tr>\n",
       "    <tr>\n",
       "      <th>3</th>\n",
       "      <td>1</td>\n",
       "      <td>Food dollar</td>\n",
       "      <td>1</td>\n",
       "      <td>Total</td>\n",
       "      <td>1996</td>\n",
       "      <td>Cents per Domestic Food Dollar</td>\n",
       "      <td>0.0</td>\n",
       "      <td>0.0</td>\n",
       "      <td>0.0</td>\n",
       "      <td>4.3</td>\n",
       "      <td>100.0</td>\n",
       "    </tr>\n",
       "    <tr>\n",
       "      <th>4</th>\n",
       "      <td>1</td>\n",
       "      <td>Food dollar</td>\n",
       "      <td>1</td>\n",
       "      <td>Total</td>\n",
       "      <td>1997</td>\n",
       "      <td>Cents per Domestic Food Dollar</td>\n",
       "      <td>51.4</td>\n",
       "      <td>8.7</td>\n",
       "      <td>35.5</td>\n",
       "      <td>4.4</td>\n",
       "      <td>100.0</td>\n",
       "    </tr>\n",
       "  </tbody>\n",
       "</table>\n",
       "</div>"
      ],
      "text/plain": [
       "   table_num   TABLE_NAME  category_num CATEGORY_DESC  year  \\\n",
       "0          1  Food dollar             1         Total  1993   \n",
       "1          1  Food dollar             1         Total  1994   \n",
       "2          1  Food dollar             1         Total  1995   \n",
       "3          1  Food dollar             1         Total  1996   \n",
       "4          1  Food dollar             1         Total  1997   \n",
       "\n",
       "                            Units  salary_and_benefits  output_taxes  \\\n",
       "0  Cents per Domestic Food Dollar                  0.0           0.0   \n",
       "1  Cents per Domestic Food Dollar                  0.0           0.0   \n",
       "2  Cents per Domestic Food Dollar                  0.0           0.0   \n",
       "3  Cents per Domestic Food Dollar                  0.0           0.0   \n",
       "4  Cents per Domestic Food Dollar                 51.4           8.7   \n",
       "\n",
       "   property_income  imports  total  \n",
       "0              0.0      3.9  100.0  \n",
       "1              0.0      3.9  100.0  \n",
       "2              0.0      4.2  100.0  \n",
       "3              0.0      4.3  100.0  \n",
       "4             35.5      4.4  100.0  "
      ]
     },
     "execution_count": 18,
     "metadata": {},
     "output_type": "execute_result"
    }
   ],
   "source": [
    "import pandas as pd\n",
    "import matplotlib as plt\n",
    "import seaborn as sns\n",
    "\n",
    "usda_url = \"https://www.ers.usda.gov/webdocs/DataFiles/92574/FoodDollarDataNominal.csv?v=5198\" \n",
    "\n",
    "df = pd.read_csv(usda_url)\n",
    "\n",
    "df.head()"
   ]
  },
  {
   "attachments": {},
   "cell_type": "markdown",
   "metadata": {},
   "source": [
    "Calling the info function to see what the csv contains"
   ]
  },
  {
   "cell_type": "code",
   "execution_count": 19,
   "metadata": {},
   "outputs": [
    {
     "name": "stdout",
     "output_type": "stream",
     "text": [
      "<class 'pandas.core.frame.DataFrame'>\n",
      "RangeIndex: 7616 entries, 0 to 7615\n",
      "Data columns (total 11 columns):\n",
      " #   Column               Non-Null Count  Dtype  \n",
      "---  ------               --------------  -----  \n",
      " 0   table_num            7616 non-null   int64  \n",
      " 1   TABLE_NAME           7616 non-null   object \n",
      " 2   category_num         7616 non-null   int64  \n",
      " 3   CATEGORY_DESC        7616 non-null   object \n",
      " 4   year                 7616 non-null   int64  \n",
      " 5   Units                7616 non-null   object \n",
      " 6   salary_and_benefits  7616 non-null   float64\n",
      " 7   output_taxes         7616 non-null   float64\n",
      " 8   property_income      7616 non-null   float64\n",
      " 9   imports              7616 non-null   float64\n",
      " 10  total                7616 non-null   float64\n",
      "dtypes: float64(5), int64(3), object(3)\n",
      "memory usage: 654.6+ KB\n"
     ]
    }
   ],
   "source": [
    "df.info()"
   ]
  },
  {
   "attachments": {},
   "cell_type": "markdown",
   "metadata": {},
   "source": [
    "Calling the len function as a different way to see the number of entries (rows) in the dataset"
   ]
  },
  {
   "cell_type": "code",
   "execution_count": 24,
   "metadata": {},
   "outputs": [
    {
     "data": {
      "text/plain": [
       "7616"
      ]
     },
     "execution_count": 24,
     "metadata": {},
     "output_type": "execute_result"
    }
   ],
   "source": [
    "import numpy as np\n",
    "\n",
    "len(df)"
   ]
  },
  {
   "attachments": {},
   "cell_type": "markdown",
   "metadata": {},
   "source": [
    "Max function showing the maximum values of each column "
   ]
  },
  {
   "cell_type": "code",
   "execution_count": 30,
   "metadata": {},
   "outputs": [
    {
     "data": {
      "text/plain": [
       "table_num                                                          22\n",
       "TABLE_NAME             Home food and beverage: Nonalcoholic beverages\n",
       "category_num                                                       16\n",
       "CATEGORY_DESC                                         Wholesale trade\n",
       "year                                                             2021\n",
       "Units                                                 million dollars\n",
       "salary_and_benefits                                         898732.96\n",
       "output_taxes                                                157952.73\n",
       "property_income                                             708603.04\n",
       "imports                                                      95726.24\n",
       "total                                                      2159202.59\n",
       "dtype: object"
      ]
     },
     "execution_count": 30,
     "metadata": {},
     "output_type": "execute_result"
    }
   ],
   "source": [
    "df.max()"
   ]
  },
  {
   "attachments": {},
   "cell_type": "markdown",
   "metadata": {},
   "source": [
    "Min function showing the minimum values in each column"
   ]
  },
  {
   "cell_type": "code",
   "execution_count": 31,
   "metadata": {},
   "outputs": [
    {
     "data": {
      "text/plain": [
       "table_num                                           1\n",
       "TABLE_NAME              Away food and beverage dollar\n",
       "category_num                                        1\n",
       "CATEGORY_DESC                             Advertising\n",
       "year                                             1993\n",
       "Units                  Cents per Domestic Food Dollar\n",
       "salary_and_benefits                               0.0\n",
       "output_taxes                                -21049.12\n",
       "property_income                                   0.0\n",
       "imports                                      -5852.93\n",
       "total                                             0.0\n",
       "dtype: object"
      ]
     },
     "execution_count": 31,
     "metadata": {},
     "output_type": "execute_result"
    }
   ],
   "source": [
    "df.min()"
   ]
  },
  {
   "attachments": {},
   "cell_type": "markdown",
   "metadata": {},
   "source": [
    "Calling the unique function to see the values that appear in the TABLE_NAME column"
   ]
  },
  {
   "cell_type": "code",
   "execution_count": 32,
   "metadata": {},
   "outputs": [
    {
     "data": {
      "text/plain": [
       "array(['Food dollar', 'Food at home dollar', 'Food away from home dollar',\n",
       "       'Food and beverage dollar', 'Home food and beverage dollar',\n",
       "       'Away food and beverage dollar', 'Food at home: Cereals',\n",
       "       'Food at home: Bakery products',\n",
       "       'Food at home: Beef, pork and other meats',\n",
       "       'Food at home: Poultry', 'Food at home: Fish and seafood',\n",
       "       'Food at home: Fresh milk',\n",
       "       'Food at home: Processed dairy products', 'Food at home: Eggs',\n",
       "       'Food at home: Fats and oils', 'Food at home: Fresh Fruits',\n",
       "       'Food at home:  Fresh vegetables',\n",
       "       'Food at home: Processed fruits and vegetables',\n",
       "       'Food at home: Sugar and sweets', 'Food at home: Other foods',\n",
       "       'Home food and beverage: Nonalcoholic beverages',\n",
       "       'Home food and beverage: Alcoholic beverages'], dtype=object)"
      ]
     },
     "execution_count": 32,
     "metadata": {},
     "output_type": "execute_result"
    }
   ],
   "source": [
    "df.TABLE_NAME.unique()"
   ]
  },
  {
   "attachments": {},
   "cell_type": "markdown",
   "metadata": {},
   "source": [
    "Creating new DataFrames that show only rows where TABLE_NAME == 'Food at home: Eggs' or 'Food at home: Poultry'\n"
   ]
  },
  {
   "cell_type": "code",
   "execution_count": null,
   "metadata": {},
   "outputs": [
    {
     "data": {
      "text/html": [
       "<div>\n",
       "<style scoped>\n",
       "    .dataframe tbody tr th:only-of-type {\n",
       "        vertical-align: middle;\n",
       "    }\n",
       "\n",
       "    .dataframe tbody tr th {\n",
       "        vertical-align: top;\n",
       "    }\n",
       "\n",
       "    .dataframe thead th {\n",
       "        text-align: right;\n",
       "    }\n",
       "</style>\n",
       "<table border=\"1\" class=\"dataframe\">\n",
       "  <thead>\n",
       "    <tr style=\"text-align: right;\">\n",
       "      <th></th>\n",
       "      <th>table_num</th>\n",
       "      <th>TABLE_NAME</th>\n",
       "      <th>category_num</th>\n",
       "      <th>CATEGORY_DESC</th>\n",
       "      <th>year</th>\n",
       "      <th>Units</th>\n",
       "      <th>salary_and_benefits</th>\n",
       "      <th>output_taxes</th>\n",
       "      <th>property_income</th>\n",
       "      <th>imports</th>\n",
       "      <th>total</th>\n",
       "    </tr>\n",
       "  </thead>\n",
       "  <tbody>\n",
       "    <tr>\n",
       "      <th>3232</th>\n",
       "      <td>14</td>\n",
       "      <td>Food at home: Eggs</td>\n",
       "      <td>1</td>\n",
       "      <td>Total</td>\n",
       "      <td>1997</td>\n",
       "      <td>Cents per Domestic Food Dollar</td>\n",
       "      <td>41.1</td>\n",
       "      <td>8.6</td>\n",
       "      <td>44.4</td>\n",
       "      <td>5.9</td>\n",
       "      <td>100.0</td>\n",
       "    </tr>\n",
       "    <tr>\n",
       "      <th>3233</th>\n",
       "      <td>14</td>\n",
       "      <td>Food at home: Eggs</td>\n",
       "      <td>1</td>\n",
       "      <td>Total</td>\n",
       "      <td>2002</td>\n",
       "      <td>Cents per Domestic Food Dollar</td>\n",
       "      <td>46.6</td>\n",
       "      <td>5.9</td>\n",
       "      <td>40.9</td>\n",
       "      <td>6.6</td>\n",
       "      <td>100.0</td>\n",
       "    </tr>\n",
       "    <tr>\n",
       "      <th>3234</th>\n",
       "      <td>14</td>\n",
       "      <td>Food at home: Eggs</td>\n",
       "      <td>1</td>\n",
       "      <td>Total</td>\n",
       "      <td>2007</td>\n",
       "      <td>Cents per Domestic Food Dollar</td>\n",
       "      <td>43.7</td>\n",
       "      <td>7.5</td>\n",
       "      <td>40.9</td>\n",
       "      <td>7.9</td>\n",
       "      <td>100.0</td>\n",
       "    </tr>\n",
       "    <tr>\n",
       "      <th>3235</th>\n",
       "      <td>14</td>\n",
       "      <td>Food at home: Eggs</td>\n",
       "      <td>1</td>\n",
       "      <td>Total</td>\n",
       "      <td>2012</td>\n",
       "      <td>Cents per Domestic Food Dollar</td>\n",
       "      <td>43.3</td>\n",
       "      <td>9.4</td>\n",
       "      <td>38.3</td>\n",
       "      <td>9.0</td>\n",
       "      <td>100.0</td>\n",
       "    </tr>\n",
       "    <tr>\n",
       "      <th>3236</th>\n",
       "      <td>14</td>\n",
       "      <td>Food at home: Eggs</td>\n",
       "      <td>2</td>\n",
       "      <td>Agribusiness</td>\n",
       "      <td>1997</td>\n",
       "      <td>Cents per Domestic Food Dollar</td>\n",
       "      <td>2.4</td>\n",
       "      <td>0.6</td>\n",
       "      <td>3.1</td>\n",
       "      <td>0.9</td>\n",
       "      <td>6.9</td>\n",
       "    </tr>\n",
       "  </tbody>\n",
       "</table>\n",
       "</div>"
      ],
      "text/plain": [
       "      table_num          TABLE_NAME  category_num CATEGORY_DESC  year  \\\n",
       "3232         14  Food at home: Eggs             1         Total  1997   \n",
       "3233         14  Food at home: Eggs             1         Total  2002   \n",
       "3234         14  Food at home: Eggs             1         Total  2007   \n",
       "3235         14  Food at home: Eggs             1         Total  2012   \n",
       "3236         14  Food at home: Eggs             2  Agribusiness  1997   \n",
       "\n",
       "                               Units  salary_and_benefits  output_taxes  \\\n",
       "3232  Cents per Domestic Food Dollar                 41.1           8.6   \n",
       "3233  Cents per Domestic Food Dollar                 46.6           5.9   \n",
       "3234  Cents per Domestic Food Dollar                 43.7           7.5   \n",
       "3235  Cents per Domestic Food Dollar                 43.3           9.4   \n",
       "3236  Cents per Domestic Food Dollar                  2.4           0.6   \n",
       "\n",
       "      property_income  imports  total  \n",
       "3232             44.4      5.9  100.0  \n",
       "3233             40.9      6.6  100.0  \n",
       "3234             40.9      7.9  100.0  \n",
       "3235             38.3      9.0  100.0  \n",
       "3236              3.1      0.9    6.9  "
      ]
     },
     "execution_count": 37,
     "metadata": {},
     "output_type": "execute_result"
    }
   ],
   "source": [
    "eggs = df[df.TABLE_NAME == 'Food at home: Eggs']\n",
    "poultry = df[df.TABLE_NAME == 'Food at home: Poultry']\n",
    "\n",
    "eggs.head()"
   ]
  },
  {
   "attachments": {},
   "cell_type": "markdown",
   "metadata": {},
   "source": [
    "Using matplotlib to create a scatter plot from the eggs dataframe showing the salary and benefits portion of income vs the recorded year. This graph shows that on average the return value has gone up over time"
   ]
  },
  {
   "cell_type": "code",
   "execution_count": 53,
   "metadata": {},
   "outputs": [
    {
     "data": {
      "text/plain": [
       "Text(0, 0.5, 'Value in Dollars')"
      ]
     },
     "execution_count": 53,
     "metadata": {},
     "output_type": "execute_result"
    },
    {
     "data": {
      "image/png": "[encoded data removed]",
      "text/plain": [
       "<Figure size 640x480 with 1 Axes>"
      ]
     },
     "metadata": {},
     "output_type": "display_data"
    }
   ],
   "source": [
    "from matplotlib import pyplot as plt\n",
    "\n",
    "%matplotlib inline\n",
    "\n",
    "plt.scatter(eggs.year, eggs.salary_and_benefits)\n",
    "plt.title('Salary and Benefits return over time: Eggs')\n",
    "plt.xlabel('Year')\n",
    "plt.ylabel('Value in Dollars')"
   ]
  },
  {
   "attachments": {},
   "cell_type": "markdown",
   "metadata": {},
   "source": [
    "A similar chart for Poultry"
   ]
  },
  {
   "cell_type": "code",
   "execution_count": 54,
   "metadata": {},
   "outputs": [
    {
     "data": {
      "text/plain": [
       "Text(0, 0.5, 'Value in Dollars')"
      ]
     },
     "execution_count": 54,
     "metadata": {},
     "output_type": "execute_result"
    },
    {
     "data": {
      "image/png": "[encoded data removed]",
      "text/plain": [
       "<Figure size 640x480 with 1 Axes>"
      ]
     },
     "metadata": {},
     "output_type": "display_data"
    }
   ],
   "source": [
    "plt.scatter(poultry.year, poultry.salary_and_benefits)\n",
    "plt.title('Salary and Benefits return over time: Poultry')\n",
    "plt.xlabel('Year')\n",
    "plt.ylabel('Value in Dollars')"
   ]
  }
 ],
 "metadata": {
  "kernelspec": {
   "display_name": "base",
   "language": "python",
   "name": "python3"
  },
  "language_info": {
   "codemirror_mode": {
    "name": "ipython",
    "version": 3
   },
   "file_extension": ".py",
   "mimetype": "text/x-python",
   "name": "python",
   "nbconvert_exporter": "python",
   "pygments_lexer": "ipython3",
   "version": "3.9.15"
  },
  "orig_nbformat": 4,
  "vscode": {
   "interpreter": {
    "hash": "52c35bfafc6e60ddf601433717bb0df9754f503031df65acd75877855f63ed19"
   }
  }
 },
 "nbformat": 4,
 "nbformat_minor": 2
}
